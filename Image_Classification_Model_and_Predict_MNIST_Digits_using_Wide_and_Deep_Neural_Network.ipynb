{
  "cells": [
    {
      "cell_type": "markdown",
      "metadata": {
        "id": "view-in-github",
        "colab_type": "text"
      },
      "source": [
        "<a href=\"https://colab.research.google.com/github/KMMohiuddin/DATA_SCIENCE_Projects/blob/main/Image_Classification_Model_and_Predict_MNIST_Digits_using_Wide_and_Deep_Neural_Network.ipynb\" target=\"_parent\"><img src=\"https://colab.research.google.com/assets/colab-badge.svg\" alt=\"Open In Colab\"/></a>"
      ]
    },
    {
      "cell_type": "markdown",
      "metadata": {
        "id": "vpFa4OHM6wMJ"
      },
      "source": [
        "# DS424 Lab Assignments [MHS_Spring_23] \n",
        "##### Name: K M Mohiuddin\n",
        "######  ID: 192-35-2894\n",
        "\n"
      ]
    },
    {
      "cell_type": "markdown",
      "metadata": {
        "id": "BwGP2nD77N6X"
      },
      "source": [
        "\n",
        "```\n",
        "🟢 Question 1\n",
        "```"
      ]
    },
    {
      "cell_type": "markdown",
      "metadata": {
        "id": "WZ9HoE85LtT-"
      },
      "source": [
        "**Build an image classification model and predict MNIST Digits using Wide and Deep Neural Network. Your should use callback functions to implement early stopping and save the best model into appropriate format. Report the training and test accuracy and other evaluation metrics.** "
      ]
    },
    {
      "cell_type": "code",
      "execution_count": null,
      "metadata": {
        "id": "Ec544QKd6CkK"
      },
      "outputs": [],
      "source": [
        "import tensorflow as tf\n",
        "from tensorflow import keras\n",
        "from tensorflow.keras.datasets import mnist\n",
        "from tensorflow.keras.models import Model\n",
        "from tensorflow.keras.layers import Input, Dense, Concatenate\n",
        "from tensorflow.keras.callbacks import EarlyStopping, ModelCheckpoint"
      ]
    },
    {
      "cell_type": "code",
      "execution_count": null,
      "metadata": {
        "colab": {
          "base_uri": "https://localhost:8080/"
        },
        "id": "Scirkoso7u7g",
        "outputId": "7d1c357e-e520-4368-9621-36d59ec65fe6"
      },
      "outputs": [
        {
          "name": "stdout",
          "output_type": "stream",
          "text": [
            "Downloading data from https://storage.googleapis.com/tensorflow/tf-keras-datasets/mnist.npz\n",
            "11490434/11490434 [==============================] - 0s 0us/step\n"
          ]
        }
      ],
      "source": [
        "# Load the MNIST dataset\n",
        "(x_train, y_train), (x_test, y_test) = mnist.load_data()\n",
        "\n",
        "# Normalize pixel values between 0 and 1\n",
        "x_train = x_train / 255.0\n",
        "x_test = x_test / 255.0\n",
        "\n",
        "# Convert labels to one-hot encoding\n",
        "y_train = keras.utils.to_categorical(y_train, 10)\n",
        "y_test = keras.utils.to_categorical(y_test, 10)\n"
      ]
    },
    {
      "cell_type": "markdown",
      "metadata": {
        "id": "GajEJ4eS91K1"
      },
      "source": [
        "define the architecture of the Wide and Deep Neural Network."
      ]
    },
    {
      "cell_type": "code",
      "execution_count": null,
      "metadata": {
        "id": "2QOg7pu98Omf"
      },
      "outputs": [],
      "source": [
        "# Define the input layer\n",
        "input_layer = Input(shape=(28, 28))\n",
        "\n",
        "# Flatten the input\n",
        "flatten_layer = keras.layers.Flatten()(input_layer)\n",
        "\n",
        "# Define the wide branch\n",
        "wide_branch = Dense(128, activation='relu')(flatten_layer)\n",
        "wide_branch = Dense(64, activation='relu')(wide_branch)\n",
        "\n",
        "# Define the deep branch\n",
        "deep_branch = Dense(128, activation='relu')(flatten_layer)\n",
        "deep_branch = Dense(128, activation='relu')(deep_branch)\n",
        "deep_branch = Dense(64, activation='relu')(deep_branch)\n",
        "\n",
        "# Concatenate the wide and deep branches\n",
        "concat_layer = Concatenate()([wide_branch, deep_branch])\n",
        "\n",
        "# Output layer\n",
        "output_layer = Dense(10, activation='softmax')(concat_layer)\n",
        "\n",
        "# Create the model\n",
        "model = Model(inputs=input_layer, outputs=output_layer)\n"
      ]
    },
    {
      "cell_type": "markdown",
      "metadata": {
        "id": "q4bqK95z-IeA"
      },
      "source": [
        "setting up early stopping and model checkpoint callbacks to monitor the training and save the best model."
      ]
    },
    {
      "cell_type": "code",
      "execution_count": null,
      "metadata": {
        "id": "LUcF7pHh-Cmw"
      },
      "outputs": [],
      "source": [
        "# Define the callbacks\n",
        "early_stopping = EarlyStopping(monitor='val_loss', patience=3, verbose=1)\n",
        "model_checkpoint = ModelCheckpoint('best_model.h5', monitor='val_accuracy', save_best_only=True, verbose=1)\n",
        "\n",
        "# Compile the model\n",
        "model.compile(optimizer='adam', loss='categorical_crossentropy', metrics=['accuracy'])\n"
      ]
    },
    {
      "cell_type": "code",
      "execution_count": null,
      "metadata": {
        "id": "7L7DfWJb-TrI"
      },
      "outputs": [],
      "source": [
        "# Train the model\n",
        "history = model.fit(x_train, y_train, batch_size=128, epochs=20, validation_split=0.2, callbacks=[early_stopping, model_checkpoint])\n"
      ]
    },
    {
      "cell_type": "code",
      "execution_count": null,
      "metadata": {
        "colab": {
          "base_uri": "https://localhost:8080/"
        },
        "id": "4L59cOya-Zvv",
        "outputId": "e9d29323-a72e-4a11-e72b-2e4b17ee9778"
      },
      "outputs": [
        {
          "name": "stdout",
          "output_type": "stream",
          "text": [
            "313/313 [==============================] - 1s 4ms/step - loss: 0.0860 - accuracy: 0.9734\n",
            "Test Accuracy: 0.9733999967575073\n"
          ]
        }
      ],
      "source": [
        "# Load the best model saved during training\n",
        "best_model = keras.models.load_model('best_model.h5')\n",
        "\n",
        "# Evaluate the model on the test data\n",
        "test_loss, test_accuracy = best_model.evaluate(x_test, y_test)\n",
        "\n",
        "# Print the test accuracy\n",
        "print('Test Accuracy:', test_accuracy)"
      ]
    },
    {
      "cell_type": "code",
      "execution_count": null,
      "metadata": {
        "colab": {
          "base_uri": "https://localhost:8080/"
        },
        "id": "6DtquIxt_Pso",
        "outputId": "c00b309a-b76a-4afc-9b5a-c8b4e72a04b9"
      },
      "outputs": [
        {
          "name": "stdout",
          "output_type": "stream",
          "text": [
            "313/313 [==============================] - 1s 2ms/step\n",
            "Precision: 0.9991111\n",
            "Recall: 0.9968958\n",
            "F1 Score: 0.9980022\n"
          ]
        }
      ],
      "source": [
        "# Generate predictions on the test data\n",
        "predictions = best_model.predict(x_test)\n",
        "predicted_labels = tf.argmax(predictions, axis=1)\n",
        "true_labels = tf.argmax(y_test, axis=1)\n",
        "\n",
        "# Calculate evaluation metrics\n",
        "precision = tf.keras.metrics.Precision()(true_labels, predicted_labels)\n",
        "recall = tf.keras.metrics.Recall()(true_labels, predicted_labels)\n",
        "f1_score = 2 * ((precision * recall) / (precision + recall))\n",
        "\n",
        "# Print evaluation metrics\n",
        "print('Precision:', precision.numpy())\n",
        "print('Recall:', recall.numpy())\n",
        "print('F1 Score:', f1_score.numpy())\n"
      ]
    },
    {
      "cell_type": "markdown",
      "metadata": {
        "id": "QLt0nhKw_lgl"
      },
      "source": [
        "\n",
        "\n",
        "```\n",
        "🟢 Question 2:\n",
        "```\n",
        "\n"
      ]
    },
    {
      "cell_type": "markdown",
      "metadata": {
        "id": "Hyq686EdAzf0"
      },
      "source": [
        "**This time we used diffrent activation function like teanh, sigmoid insted of relu used before.**"
      ]
    },
    {
      "cell_type": "code",
      "execution_count": null,
      "metadata": {
        "id": "EuuyEW13_dWi"
      },
      "outputs": [],
      "source": [
        "# Define the input layer\n",
        "input_layer = Input(shape=(28, 28))\n",
        "\n",
        "# Flatten the input\n",
        "flatten_layer = keras.layers.Flatten()(input_layer)\n",
        "\n",
        "# Define the wide branch with modified activation function and weight initialization\n",
        "wide_branch = Dense(128, activation='tanh', kernel_initializer='glorot_uniform')(flatten_layer)\n",
        "wide_branch = Dense(64, activation='tanh', kernel_initializer='glorot_uniform')(wide_branch)\n",
        "\n",
        "# Define the deep branch with modified activation function and weight initialization\n",
        "deep_branch = Dense(128, activation='sigmoid', kernel_initializer='he_uniform')(flatten_layer)\n",
        "deep_branch = Dense(128, activation='sigmoid', kernel_initializer='he_uniform')(deep_branch)\n",
        "deep_branch = Dense(64, activation='sigmoid', kernel_initializer='he_uniform')(deep_branch)\n",
        "\n",
        "# Concatenate the wide and deep branches\n",
        "concat_layer = Concatenate()([wide_branch, deep_branch])\n",
        "\n",
        "# Output layer\n",
        "output_layer = Dense(10, activation='softmax')(concat_layer)\n",
        "\n",
        "# Create the model\n",
        "model = Model(inputs=input_layer, outputs=output_layer)"
      ]
    },
    {
      "cell_type": "code",
      "execution_count": null,
      "metadata": {
        "id": "5Kv0fDX1BWAT"
      },
      "outputs": [],
      "source": [
        "# Define the callbacks\n",
        "early_stopping = EarlyStopping(monitor='val_loss', patience=3, verbose=1)\n",
        "model_checkpoint = ModelCheckpoint('best_model.h5', monitor='val_accuracy', save_best_only=True, verbose=1)\n",
        "\n",
        "# Compile the model\n",
        "model.compile(optimizer='adam', loss='categorical_crossentropy', metrics=['accuracy'])\n"
      ]
    },
    {
      "cell_type": "code",
      "execution_count": null,
      "metadata": {
        "colab": {
          "base_uri": "https://localhost:8080/"
        },
        "id": "Zt3zRe2FBaZT",
        "outputId": "cba6cfa4-c328-415a-c706-29c5f2f3feeb"
      },
      "outputs": [
        {
          "name": "stdout",
          "output_type": "stream",
          "text": [
            "Epoch 1/20\n",
            "374/375 [============================>.] - ETA: 0s - loss: 0.4235 - accuracy: 0.8845\n",
            "Epoch 1: val_accuracy improved from -inf to 0.94025, saving model to best_model.h5\n",
            "375/375 [==============================] - 5s 11ms/step - loss: 0.4228 - accuracy: 0.8847 - val_loss: 0.2163 - val_accuracy: 0.9402\n",
            "Epoch 2/20\n",
            "374/375 [============================>.] - ETA: 0s - loss: 0.1849 - accuracy: 0.9460\n",
            "Epoch 2: val_accuracy improved from 0.94025 to 0.95517, saving model to best_model.h5\n",
            "375/375 [==============================] - 5s 13ms/step - loss: 0.1848 - accuracy: 0.9461 - val_loss: 0.1576 - val_accuracy: 0.9552\n",
            "Epoch 3/20\n",
            "372/375 [============================>.] - ETA: 0s - loss: 0.1307 - accuracy: 0.9617\n",
            "Epoch 3: val_accuracy improved from 0.95517 to 0.96308, saving model to best_model.h5\n",
            "375/375 [==============================] - 4s 10ms/step - loss: 0.1306 - accuracy: 0.9616 - val_loss: 0.1287 - val_accuracy: 0.9631\n",
            "Epoch 4/20\n",
            "373/375 [============================>.] - ETA: 0s - loss: 0.0989 - accuracy: 0.9715\n",
            "Epoch 4: val_accuracy improved from 0.96308 to 0.96467, saving model to best_model.h5\n",
            "375/375 [==============================] - 3s 9ms/step - loss: 0.0988 - accuracy: 0.9715 - val_loss: 0.1155 - val_accuracy: 0.9647\n",
            "Epoch 5/20\n",
            "374/375 [============================>.] - ETA: 0s - loss: 0.0762 - accuracy: 0.9780\n",
            "Epoch 5: val_accuracy improved from 0.96467 to 0.97100, saving model to best_model.h5\n",
            "375/375 [==============================] - 5s 13ms/step - loss: 0.0761 - accuracy: 0.9780 - val_loss: 0.1008 - val_accuracy: 0.9710\n",
            "Epoch 6/20\n",
            "375/375 [==============================] - ETA: 0s - loss: 0.0609 - accuracy: 0.9823\n",
            "Epoch 6: val_accuracy did not improve from 0.97100\n",
            "375/375 [==============================] - 4s 10ms/step - loss: 0.0609 - accuracy: 0.9823 - val_loss: 0.0998 - val_accuracy: 0.9703\n",
            "Epoch 7/20\n",
            "375/375 [==============================] - ETA: 0s - loss: 0.0474 - accuracy: 0.9863\n",
            "Epoch 7: val_accuracy improved from 0.97100 to 0.97175, saving model to best_model.h5\n",
            "375/375 [==============================] - 4s 10ms/step - loss: 0.0474 - accuracy: 0.9863 - val_loss: 0.0958 - val_accuracy: 0.9718\n",
            "Epoch 8/20\n",
            "374/375 [============================>.] - ETA: 0s - loss: 0.0393 - accuracy: 0.9891\n",
            "Epoch 8: val_accuracy improved from 0.97175 to 0.97458, saving model to best_model.h5\n",
            "375/375 [==============================] - 5s 13ms/step - loss: 0.0392 - accuracy: 0.9891 - val_loss: 0.0907 - val_accuracy: 0.9746\n",
            "Epoch 9/20\n",
            "375/375 [==============================] - ETA: 0s - loss: 0.0302 - accuracy: 0.9915\n",
            "Epoch 9: val_accuracy did not improve from 0.97458\n",
            "375/375 [==============================] - 4s 10ms/step - loss: 0.0302 - accuracy: 0.9915 - val_loss: 0.0894 - val_accuracy: 0.9746\n",
            "Epoch 10/20\n",
            "369/375 [============================>.] - ETA: 0s - loss: 0.0229 - accuracy: 0.9940\n",
            "Epoch 10: val_accuracy did not improve from 0.97458\n",
            "375/375 [==============================] - 4s 10ms/step - loss: 0.0229 - accuracy: 0.9939 - val_loss: 0.0891 - val_accuracy: 0.9732\n",
            "Epoch 11/20\n",
            "375/375 [==============================] - ETA: 0s - loss: 0.0173 - accuracy: 0.9961\n",
            "Epoch 11: val_accuracy improved from 0.97458 to 0.97492, saving model to best_model.h5\n",
            "375/375 [==============================] - 5s 12ms/step - loss: 0.0173 - accuracy: 0.9961 - val_loss: 0.0893 - val_accuracy: 0.9749\n",
            "Epoch 12/20\n",
            "374/375 [============================>.] - ETA: 0s - loss: 0.0137 - accuracy: 0.9970\n",
            "Epoch 12: val_accuracy did not improve from 0.97492\n",
            "375/375 [==============================] - 4s 10ms/step - loss: 0.0137 - accuracy: 0.9970 - val_loss: 0.0951 - val_accuracy: 0.9733\n",
            "Epoch 13/20\n",
            "370/375 [============================>.] - ETA: 0s - loss: 0.0108 - accuracy: 0.9978\n",
            "Epoch 13: val_accuracy did not improve from 0.97492\n",
            "375/375 [==============================] - 3s 9ms/step - loss: 0.0108 - accuracy: 0.9978 - val_loss: 0.0951 - val_accuracy: 0.9746\n",
            "Epoch 13: early stopping\n"
          ]
        }
      ],
      "source": [
        "# Train the model\n",
        "history = model.fit(x_train, y_train, batch_size=128, epochs=20, validation_split=0.2, callbacks=[early_stopping, model_checkpoint])\n"
      ]
    },
    {
      "cell_type": "code",
      "execution_count": null,
      "metadata": {
        "colab": {
          "base_uri": "https://localhost:8080/"
        },
        "id": "gTFcc7ueBdsV",
        "outputId": "3632715a-9432-4399-8d41-a0fdba0921e5"
      },
      "outputs": [
        {
          "name": "stdout",
          "output_type": "stream",
          "text": [
            "313/313 [==============================] - 1s 2ms/step - loss: 0.0781 - accuracy: 0.9763\n",
            "Test Accuracy: 0.9763000011444092\n"
          ]
        }
      ],
      "source": [
        "# Load the best model saved during training\n",
        "best_model = keras.models.load_model('best_model.h5')\n",
        "\n",
        "# Evaluate the model on the test data\n",
        "test_loss, test_accuracy = best_model.evaluate(x_test, y_test)\n",
        "\n",
        "# Print the test accuracy\n",
        "print('Test Accuracy:', test_accuracy)"
      ]
    },
    {
      "cell_type": "code",
      "execution_count": null,
      "metadata": {
        "colab": {
          "base_uri": "https://localhost:8080/"
        },
        "id": "oLvrbJShB7gy",
        "outputId": "b422b6b2-555a-45d3-d6d1-3fc16e97adfd"
      },
      "outputs": [
        {
          "name": "stdout",
          "output_type": "stream",
          "text": [
            "313/313 [==============================] - 1s 2ms/step\n",
            "Precision: 0.9984481\n",
            "Recall: 0.99855876\n",
            "F1 Score: 0.9985034\n"
          ]
        }
      ],
      "source": [
        "# Generate predictions on the test data\n",
        "predictions = best_model.predict(x_test)\n",
        "predicted_labels = tf.argmax(predictions, axis=1)\n",
        "true_labels = tf.argmax(y_test, axis=1)\n",
        "\n",
        "# Calculate evaluation metrics\n",
        "precision = tf.keras.metrics.Precision()(true_labels, predicted_labels)\n",
        "recall = tf.keras.metrics.Recall()(true_labels, predicted_labels)\n",
        "f1_score = 2 * ((precision * recall) / (precision + recall))\n",
        "\n",
        "# Print evaluation metrics\n",
        "print('Precision:', precision.numpy())\n",
        "print('Recall:', recall.numpy())\n",
        "print('F1 Score:', f1_score.numpy())"
      ]
    },
    {
      "cell_type": "markdown",
      "metadata": {
        "id": "ZAvlJY1uEGek"
      },
      "source": [
        "\n",
        "\n",
        "```\n",
        "🟢 Question 3\n",
        "```\n",
        "\n"
      ]
    },
    {
      "cell_type": "markdown",
      "metadata": {
        "id": "bU7pdH7wEtKS"
      },
      "source": [
        "**let's experiment with different optimizers. We'll modify the optimizer used in the model and compile it before training.**\n",
        "\n"
      ]
    },
    {
      "cell_type": "code",
      "execution_count": null,
      "metadata": {
        "id": "6RXPgMnZGSbb"
      },
      "outputs": [],
      "source": [
        "# Define the callbacks\n",
        "early_stopping = EarlyStopping(monitor='val_loss', patience=3, verbose=1)\n",
        "model_checkpoint = ModelCheckpoint('best_model.h5', monitor='val_accuracy', save_best_only=True, verbose=1)\n",
        "\n",
        "# Compile the model\n",
        "model.compile(optimizer='adam', loss='categorical_crossentropy', metrics=['accuracy'])\n"
      ]
    },
    {
      "cell_type": "code",
      "execution_count": null,
      "metadata": {
        "colab": {
          "base_uri": "https://localhost:8080/"
        },
        "id": "9e9ieZmBCP2T",
        "outputId": "e9839c27-46ec-4016-f7a4-cb159395f6be"
      },
      "outputs": [
        {
          "name": "stdout",
          "output_type": "stream",
          "text": [
            "Training model with optimizer: sgd\n",
            "Epoch 1/20\n",
            "373/375 [============================>.] - ETA: 0s - loss: 9.2262e-05 - accuracy: 1.0000\n",
            "Epoch 1: val_accuracy improved from -inf to 0.97775, saving model to best_model.h5\n",
            "375/375 [==============================] - 5s 13ms/step - loss: 9.2070e-05 - accuracy: 1.0000 - val_loss: 0.1192 - val_accuracy: 0.9778\n",
            "Epoch 2/20\n",
            "375/375 [==============================] - ETA: 0s - loss: 9.1936e-05 - accuracy: 1.0000\n",
            "Epoch 2: val_accuracy did not improve from 0.97775\n",
            "375/375 [==============================] - 3s 8ms/step - loss: 9.1936e-05 - accuracy: 1.0000 - val_loss: 0.1192 - val_accuracy: 0.9778\n",
            "Epoch 3/20\n",
            "369/375 [============================>.] - ETA: 0s - loss: 9.1475e-05 - accuracy: 1.0000\n",
            "Epoch 3: val_accuracy did not improve from 0.97775\n",
            "375/375 [==============================] - 3s 9ms/step - loss: 9.1811e-05 - accuracy: 1.0000 - val_loss: 0.1192 - val_accuracy: 0.9778\n",
            "Epoch 4/20\n",
            "375/375 [==============================] - ETA: 0s - loss: 9.1693e-05 - accuracy: 1.0000\n",
            "Epoch 4: val_accuracy did not improve from 0.97775\n",
            "375/375 [==============================] - 4s 9ms/step - loss: 9.1693e-05 - accuracy: 1.0000 - val_loss: 0.1192 - val_accuracy: 0.9778\n",
            "Epoch 5/20\n",
            "369/375 [============================>.] - ETA: 0s - loss: 9.1279e-05 - accuracy: 1.0000\n",
            "Epoch 5: val_accuracy did not improve from 0.97775\n",
            "375/375 [==============================] - 4s 12ms/step - loss: 9.1583e-05 - accuracy: 1.0000 - val_loss: 0.1192 - val_accuracy: 0.9778\n",
            "Epoch 6/20\n",
            "375/375 [==============================] - ETA: 0s - loss: 9.1479e-05 - accuracy: 1.0000\n",
            "Epoch 6: val_accuracy did not improve from 0.97775\n",
            "375/375 [==============================] - 3s 9ms/step - loss: 9.1479e-05 - accuracy: 1.0000 - val_loss: 0.1192 - val_accuracy: 0.9778\n",
            "Epoch 6: early stopping\n",
            "313/313 [==============================] - 1s 3ms/step - loss: 0.0979 - accuracy: 0.9796\n",
            "Test Accuracy: 0.9796000123023987\n",
            "------------------------------------\n",
            "Training model with optimizer: rmsprop\n",
            "Epoch 1/20\n",
            "371/375 [============================>.] - ETA: 0s - loss: 9.2816e-05 - accuracy: 1.0000\n",
            "Epoch 1: val_accuracy did not improve from 0.97775\n",
            "375/375 [==============================] - 5s 12ms/step - loss: 9.2675e-05 - accuracy: 1.0000 - val_loss: 0.1202 - val_accuracy: 0.9777\n",
            "Epoch 2/20\n",
            "374/375 [============================>.] - ETA: 0s - loss: 8.5159e-05 - accuracy: 1.0000\n",
            "Epoch 2: val_accuracy improved from 0.97775 to 0.97800, saving model to best_model.h5\n",
            "375/375 [==============================] - 4s 10ms/step - loss: 8.5289e-05 - accuracy: 1.0000 - val_loss: 0.1212 - val_accuracy: 0.9780\n",
            "Epoch 3/20\n",
            "375/375 [==============================] - ETA: 0s - loss: 7.9415e-05 - accuracy: 1.0000\n",
            "Epoch 3: val_accuracy did not improve from 0.97800\n",
            "375/375 [==============================] - 4s 10ms/step - loss: 7.9415e-05 - accuracy: 1.0000 - val_loss: 0.1211 - val_accuracy: 0.9777\n",
            "Epoch 4/20\n",
            "374/375 [============================>.] - ETA: 0s - loss: 7.4199e-05 - accuracy: 1.0000\n",
            "Epoch 4: val_accuracy did not improve from 0.97800\n",
            "375/375 [==============================] - 4s 10ms/step - loss: 7.4157e-05 - accuracy: 1.0000 - val_loss: 0.1215 - val_accuracy: 0.9776\n",
            "Epoch 4: early stopping\n",
            "313/313 [==============================] - 1s 3ms/step - loss: 0.0988 - accuracy: 0.9800\n",
            "Test Accuracy: 0.9800000190734863\n",
            "------------------------------------\n",
            "Training model with optimizer: adam\n",
            "Epoch 1/20\n",
            "372/375 [============================>.] - ETA: 0s - loss: 0.0054 - accuracy: 0.9982\n",
            "Epoch 1: val_accuracy did not improve from 0.97800\n",
            "375/375 [==============================] - 5s 11ms/step - loss: 0.0053 - accuracy: 0.9982 - val_loss: 0.1358 - val_accuracy: 0.9756\n",
            "Epoch 2/20\n",
            "372/375 [============================>.] - ETA: 0s - loss: 0.0039 - accuracy: 0.9988\n",
            "Epoch 2: val_accuracy did not improve from 0.97800\n",
            "375/375 [==============================] - 4s 12ms/step - loss: 0.0039 - accuracy: 0.9988 - val_loss: 0.1420 - val_accuracy: 0.9732\n",
            "Epoch 3/20\n",
            "375/375 [==============================] - ETA: 0s - loss: 0.0013 - accuracy: 0.9997\n",
            "Epoch 3: val_accuracy did not improve from 0.97800\n",
            "375/375 [==============================] - 4s 10ms/step - loss: 0.0013 - accuracy: 0.9997 - val_loss: 0.1260 - val_accuracy: 0.9768\n",
            "Epoch 4/20\n",
            "373/375 [============================>.] - ETA: 0s - loss: 1.6228e-04 - accuracy: 1.0000\n",
            "Epoch 4: val_accuracy did not improve from 0.97800\n",
            "375/375 [==============================] - 4s 10ms/step - loss: 1.6251e-04 - accuracy: 1.0000 - val_loss: 0.1268 - val_accuracy: 0.9776\n",
            "Epoch 5/20\n",
            "375/375 [==============================] - ETA: 0s - loss: 1.0401e-04 - accuracy: 1.0000\n",
            "Epoch 5: val_accuracy improved from 0.97800 to 0.97858, saving model to best_model.h5\n",
            "375/375 [==============================] - 5s 13ms/step - loss: 1.0401e-04 - accuracy: 1.0000 - val_loss: 0.1253 - val_accuracy: 0.9786\n",
            "Epoch 6/20\n",
            "375/375 [==============================] - ETA: 0s - loss: 8.5830e-05 - accuracy: 1.0000\n",
            "Epoch 6: val_accuracy did not improve from 0.97858\n",
            "375/375 [==============================] - 3s 9ms/step - loss: 8.5830e-05 - accuracy: 1.0000 - val_loss: 0.1263 - val_accuracy: 0.9783\n",
            "Epoch 7/20\n",
            "372/375 [============================>.] - ETA: 0s - loss: 7.4494e-05 - accuracy: 1.0000\n",
            "Epoch 7: val_accuracy did not improve from 0.97858\n",
            "375/375 [==============================] - 4s 10ms/step - loss: 7.4343e-05 - accuracy: 1.0000 - val_loss: 0.1260 - val_accuracy: 0.9781\n",
            "Epoch 8/20\n",
            "373/375 [============================>.] - ETA: 0s - loss: 6.4692e-05 - accuracy: 1.0000\n",
            "Epoch 8: val_accuracy did not improve from 0.97858\n",
            "375/375 [==============================] - 5s 12ms/step - loss: 6.4935e-05 - accuracy: 1.0000 - val_loss: 0.1264 - val_accuracy: 0.9782\n",
            "Epoch 8: early stopping\n",
            "313/313 [==============================] - 1s 3ms/step - loss: 0.1028 - accuracy: 0.9785\n",
            "Test Accuracy: 0.9785000085830688\n",
            "------------------------------------\n",
            "Training model with optimizer: adagrad\n",
            "Epoch 1/20\n",
            "371/375 [============================>.] - ETA: 0s - loss: 5.6991e-05 - accuracy: 1.0000\n",
            "Epoch 1: val_accuracy did not improve from 0.97858\n",
            "375/375 [==============================] - 4s 9ms/step - loss: 5.6945e-05 - accuracy: 1.0000 - val_loss: 0.1264 - val_accuracy: 0.9782\n",
            "Epoch 2/20\n",
            "375/375 [==============================] - ETA: 0s - loss: 5.6932e-05 - accuracy: 1.0000\n",
            "Epoch 2: val_accuracy did not improve from 0.97858\n",
            "375/375 [==============================] - 4s 9ms/step - loss: 5.6932e-05 - accuracy: 1.0000 - val_loss: 0.1264 - val_accuracy: 0.9782\n",
            "Epoch 3/20\n",
            "373/375 [============================>.] - ETA: 0s - loss: 5.6942e-05 - accuracy: 1.0000\n",
            "Epoch 3: val_accuracy did not improve from 0.97858\n",
            "375/375 [==============================] - 5s 13ms/step - loss: 5.6918e-05 - accuracy: 1.0000 - val_loss: 0.1264 - val_accuracy: 0.9782\n",
            "Epoch 4/20\n",
            "375/375 [==============================] - ETA: 0s - loss: 5.6906e-05 - accuracy: 1.0000\n",
            "Epoch 4: val_accuracy did not improve from 0.97858\n",
            "375/375 [==============================] - 3s 9ms/step - loss: 5.6906e-05 - accuracy: 1.0000 - val_loss: 0.1264 - val_accuracy: 0.9782\n",
            "Epoch 4: early stopping\n",
            "313/313 [==============================] - 1s 3ms/step - loss: 0.1028 - accuracy: 0.9785\n",
            "Test Accuracy: 0.9785000085830688\n",
            "------------------------------------\n",
            "Training model with optimizer: adadelta\n",
            "Epoch 1/20\n",
            "374/375 [============================>.] - ETA: 0s - loss: 5.6850e-05 - accuracy: 1.0000\n",
            "Epoch 1: val_accuracy did not improve from 0.97858\n",
            "375/375 [==============================] - 7s 14ms/step - loss: 5.6895e-05 - accuracy: 1.0000 - val_loss: 0.1264 - val_accuracy: 0.9782\n",
            "Epoch 2/20\n",
            "372/375 [============================>.] - ETA: 0s - loss: 5.6869e-05 - accuracy: 1.0000\n",
            "Epoch 2: val_accuracy did not improve from 0.97858\n",
            "375/375 [==============================] - 4s 11ms/step - loss: 5.6891e-05 - accuracy: 1.0000 - val_loss: 0.1264 - val_accuracy: 0.9782\n",
            "Epoch 3/20\n",
            "373/375 [============================>.] - ETA: 0s - loss: 5.6997e-05 - accuracy: 1.0000\n",
            "Epoch 3: val_accuracy did not improve from 0.97858\n",
            "375/375 [==============================] - 4s 11ms/step - loss: 5.6887e-05 - accuracy: 1.0000 - val_loss: 0.1264 - val_accuracy: 0.9782\n",
            "Epoch 4/20\n",
            "374/375 [============================>.] - ETA: 0s - loss: 5.6772e-05 - accuracy: 1.0000\n",
            "Epoch 4: val_accuracy did not improve from 0.97858\n",
            "375/375 [==============================] - 5s 14ms/step - loss: 5.6884e-05 - accuracy: 1.0000 - val_loss: 0.1264 - val_accuracy: 0.9782\n",
            "Epoch 4: early stopping\n",
            "313/313 [==============================] - 1s 3ms/step - loss: 0.1028 - accuracy: 0.9785\n",
            "Test Accuracy: 0.9785000085830688\n",
            "------------------------------------\n",
            "Training model with optimizer: adamax\n",
            "Epoch 1/20\n",
            "374/375 [============================>.] - ETA: 0s - loss: 7.3609e-05 - accuracy: 1.0000\n",
            "Epoch 1: val_accuracy did not improve from 0.97858\n",
            "375/375 [==============================] - 5s 10ms/step - loss: 7.3516e-05 - accuracy: 1.0000 - val_loss: 0.1276 - val_accuracy: 0.9782\n",
            "Epoch 2/20\n",
            "375/375 [==============================] - ETA: 0s - loss: 4.3536e-05 - accuracy: 1.0000\n",
            "Epoch 2: val_accuracy did not improve from 0.97858\n",
            "375/375 [==============================] - 5s 13ms/step - loss: 4.3536e-05 - accuracy: 1.0000 - val_loss: 0.1294 - val_accuracy: 0.9781\n",
            "Epoch 3/20\n",
            "372/375 [============================>.] - ETA: 0s - loss: 3.6080e-05 - accuracy: 1.0000\n",
            "Epoch 3: val_accuracy did not improve from 0.97858\n",
            "375/375 [==============================] - 4s 10ms/step - loss: 3.6139e-05 - accuracy: 1.0000 - val_loss: 0.1312 - val_accuracy: 0.9783\n",
            "Epoch 4/20\n",
            "373/375 [============================>.] - ETA: 0s - loss: 2.9581e-05 - accuracy: 1.0000\n",
            "Epoch 4: val_accuracy did not improve from 0.97858\n",
            "375/375 [==============================] - 4s 10ms/step - loss: 2.9555e-05 - accuracy: 1.0000 - val_loss: 0.1324 - val_accuracy: 0.9780\n",
            "Epoch 4: early stopping\n",
            "313/313 [==============================] - 1s 3ms/step - loss: 0.1028 - accuracy: 0.9785\n",
            "Test Accuracy: 0.9785000085830688\n",
            "------------------------------------\n",
            "Training model with optimizer: nadam\n",
            "Epoch 1/20\n",
            "372/375 [============================>.] - ETA: 0s - loss: 0.0033 - accuracy: 0.9989\n",
            "Epoch 1: val_accuracy did not improve from 0.97858\n",
            "375/375 [==============================] - 7s 12ms/step - loss: 0.0033 - accuracy: 0.9989 - val_loss: 0.1502 - val_accuracy: 0.9758\n",
            "Epoch 2/20\n",
            "375/375 [==============================] - ETA: 0s - loss: 0.0016 - accuracy: 0.9995\n",
            "Epoch 2: val_accuracy did not improve from 0.97858\n",
            "375/375 [==============================] - 5s 14ms/step - loss: 0.0016 - accuracy: 0.9995 - val_loss: 0.1554 - val_accuracy: 0.9753\n",
            "Epoch 3/20\n",
            "373/375 [============================>.] - ETA: 0s - loss: 0.0077 - accuracy: 0.9972\n",
            "Epoch 3: val_accuracy did not improve from 0.97858\n",
            "375/375 [==============================] - 4s 12ms/step - loss: 0.0076 - accuracy: 0.9972 - val_loss: 0.1524 - val_accuracy: 0.9737\n",
            "Epoch 4/20\n",
            "375/375 [==============================] - ETA: 0s - loss: 0.0014 - accuracy: 0.9996\n",
            "Epoch 4: val_accuracy did not improve from 0.97858\n",
            "375/375 [==============================] - 4s 12ms/step - loss: 0.0014 - accuracy: 0.9996 - val_loss: 0.1459 - val_accuracy: 0.9766\n",
            "Epoch 5/20\n",
            "370/375 [============================>.] - ETA: 0s - loss: 3.4122e-04 - accuracy: 1.0000\n",
            "Epoch 5: val_accuracy did not improve from 0.97858\n",
            "375/375 [==============================] - 5s 14ms/step - loss: 3.4572e-04 - accuracy: 1.0000 - val_loss: 0.1373 - val_accuracy: 0.9780\n",
            "Epoch 6/20\n",
            "372/375 [============================>.] - ETA: 0s - loss: 0.0053 - accuracy: 0.9981\n",
            "Epoch 6: val_accuracy did not improve from 0.97858\n",
            "375/375 [==============================] - 4s 11ms/step - loss: 0.0053 - accuracy: 0.9981 - val_loss: 0.1531 - val_accuracy: 0.9735\n",
            "Epoch 7/20\n",
            "373/375 [============================>.] - ETA: 0s - loss: 0.0040 - accuracy: 0.9989\n",
            "Epoch 7: val_accuracy did not improve from 0.97858\n",
            "375/375 [==============================] - 5s 13ms/step - loss: 0.0040 - accuracy: 0.9989 - val_loss: 0.1500 - val_accuracy: 0.9747\n",
            "Epoch 8/20\n",
            "372/375 [============================>.] - ETA: 0s - loss: 8.3748e-04 - accuracy: 0.9998\n",
            "Epoch 8: val_accuracy did not improve from 0.97858\n",
            "375/375 [==============================] - 5s 13ms/step - loss: 8.3776e-04 - accuracy: 0.9998 - val_loss: 0.1414 - val_accuracy: 0.9767\n",
            "Epoch 8: early stopping\n",
            "313/313 [==============================] - 1s 3ms/step - loss: 0.1028 - accuracy: 0.9785\n",
            "Test Accuracy: 0.9785000085830688\n",
            "------------------------------------\n",
            "Test Accuracies for Different Optimizers:\n",
            "sgd: 0.9796000123023987\n",
            "rmsprop: 0.9800000190734863\n",
            "adam: 0.9785000085830688\n",
            "adagrad: 0.9785000085830688\n",
            "adadelta: 0.9785000085830688\n",
            "adamax: 0.9785000085830688\n",
            "nadam: 0.9785000085830688\n"
          ]
        }
      ],
      "source": [
        "# Experiment with different optimizers\n",
        "optimizers = ['sgd', 'rmsprop', 'adam', 'adagrad', 'adadelta', 'adamax', 'nadam']\n",
        "Test_Accuracy=[];\n",
        "\n",
        "for optimizer_name in optimizers:\n",
        "    # Create the model\n",
        "    model = Model(inputs=input_layer, outputs=output_layer)\n",
        "    \n",
        "    # Compile the model with the current optimizer\n",
        "    optimizer = keras.optimizers.get(optimizer_name)\n",
        "    model.compile(optimizer=optimizer, loss='categorical_crossentropy', metrics=['accuracy'])\n",
        "    \n",
        "    # Train the model\n",
        "    print(f\"Training model with optimizer: {optimizer_name}\")\n",
        "    history = model.fit(x_train, y_train, batch_size=128, epochs=20, validation_split=0.2, callbacks=[early_stopping, model_checkpoint])\n",
        "    \n",
        "    # Load the best model saved during training\n",
        "    best_model = keras.models.load_model('best_model.h5')\n",
        "    \n",
        "    # Evaluate the model on the test data\n",
        "    test_loss, test_accuracy = best_model.evaluate(x_test, y_test)\n",
        "    \n",
        "    # store n Print the test accuracy\n",
        "    Test_Accuracy.append(test_accuracy)\n",
        "    print('Test Accuracy:', test_accuracy)\n",
        "    print('------------------------------------')\n",
        "print(\"Test Accuracies for Different Optimizers:\")\n",
        "for i in range(len(optimizers)):\n",
        "    print(f\"{optimizers[i]}: {Test_Accuracy[i]}\")"
      ]
    },
    {
      "cell_type": "markdown",
      "metadata": {
        "id": "ZCy9HjfNItLy"
      },
      "source": [
        "\n",
        "\n",
        "```\n",
        "🟢 Question 4:\n",
        "```\n",
        "\n"
      ]
    },
    {
      "cell_type": "markdown",
      "metadata": {
        "id": "fabnbhSGI5ty"
      },
      "source": [
        "**This time implement different regularization methods such as L1, L2, and Dropout to reduce overfitting.**"
      ]
    },
    {
      "cell_type": "code",
      "execution_count": null,
      "metadata": {
        "colab": {
          "base_uri": "https://localhost:8080/"
        },
        "id": "oSSGLvk7FME9",
        "outputId": "5fdc0e6a-2a28-462b-d7ec-eb6e9ec4ac51"
      },
      "outputs": [
        {
          "name": "stdout",
          "output_type": "stream",
          "text": [
            "Epoch 1/20\n",
            "371/375 [============================>.] - ETA: 0s - loss: 7.8904 - accuracy: 0.7650\n",
            "Epoch 1: val_accuracy improved from -inf to 0.90767, saving model to best_model.h5\n",
            "375/375 [==============================] - 6s 13ms/step - loss: 7.8172 - accuracy: 0.7662 - val_loss: 0.8511 - val_accuracy: 0.9077\n",
            "Epoch 2/20\n",
            "373/375 [============================>.] - ETA: 0s - loss: 0.9265 - accuracy: 0.8543\n",
            "Epoch 2: val_accuracy did not improve from 0.90767\n",
            "375/375 [==============================] - 6s 16ms/step - loss: 0.9258 - accuracy: 0.8545 - val_loss: 0.7427 - val_accuracy: 0.8974\n",
            "Epoch 3/20\n",
            "371/375 [============================>.] - ETA: 0s - loss: 0.8528 - accuracy: 0.8632\n",
            "Epoch 3: val_accuracy did not improve from 0.90767\n",
            "375/375 [==============================] - 4s 12ms/step - loss: 0.8528 - accuracy: 0.8629 - val_loss: 0.7015 - val_accuracy: 0.9050\n",
            "Epoch 4/20\n",
            "371/375 [============================>.] - ETA: 0s - loss: 0.8282 - accuracy: 0.8647\n",
            "Epoch 4: val_accuracy improved from 0.90767 to 0.90883, saving model to best_model.h5\n",
            "375/375 [==============================] - 5s 12ms/step - loss: 0.8284 - accuracy: 0.8647 - val_loss: 0.6844 - val_accuracy: 0.9088\n",
            "Epoch 5/20\n",
            "371/375 [============================>.] - ETA: 0s - loss: 0.8116 - accuracy: 0.8674\n",
            "Epoch 5: val_accuracy did not improve from 0.90883\n",
            "375/375 [==============================] - 5s 14ms/step - loss: 0.8118 - accuracy: 0.8674 - val_loss: 0.6683 - val_accuracy: 0.9078\n",
            "Epoch 6/20\n",
            "371/375 [============================>.] - ETA: 0s - loss: 0.8013 - accuracy: 0.8693\n",
            "Epoch 6: val_accuracy did not improve from 0.90883\n",
            "375/375 [==============================] - 5s 12ms/step - loss: 0.8012 - accuracy: 0.8694 - val_loss: 0.6720 - val_accuracy: 0.9015\n",
            "Epoch 7/20\n",
            "374/375 [============================>.] - ETA: 0s - loss: 0.7941 - accuracy: 0.8679\n",
            "Epoch 7: val_accuracy did not improve from 0.90883\n",
            "375/375 [==============================] - 5s 14ms/step - loss: 0.7940 - accuracy: 0.8680 - val_loss: 0.6577 - val_accuracy: 0.9072\n",
            "Epoch 8/20\n",
            "371/375 [============================>.] - ETA: 0s - loss: 0.7839 - accuracy: 0.8701\n",
            "Epoch 8: val_accuracy did not improve from 0.90883\n",
            "375/375 [==============================] - 5s 12ms/step - loss: 0.7839 - accuracy: 0.8700 - val_loss: 0.6533 - val_accuracy: 0.9078\n",
            "Epoch 9/20\n",
            "371/375 [============================>.] - ETA: 0s - loss: 0.7825 - accuracy: 0.8691\n",
            "Epoch 9: val_accuracy improved from 0.90883 to 0.90942, saving model to best_model.h5\n",
            "375/375 [==============================] - 5s 12ms/step - loss: 0.7828 - accuracy: 0.8691 - val_loss: 0.6414 - val_accuracy: 0.9094\n",
            "Epoch 10/20\n",
            "371/375 [============================>.] - ETA: 0s - loss: 0.7755 - accuracy: 0.8687\n",
            "Epoch 10: val_accuracy did not improve from 0.90942\n",
            "375/375 [==============================] - 5s 15ms/step - loss: 0.7753 - accuracy: 0.8688 - val_loss: 0.6441 - val_accuracy: 0.9068\n",
            "Epoch 11/20\n",
            "374/375 [============================>.] - ETA: 0s - loss: 0.7720 - accuracy: 0.8694\n",
            "Epoch 11: val_accuracy improved from 0.90942 to 0.91217, saving model to best_model.h5\n",
            "375/375 [==============================] - 5s 13ms/step - loss: 0.7723 - accuracy: 0.8693 - val_loss: 0.6352 - val_accuracy: 0.9122\n",
            "Epoch 12/20\n",
            "372/375 [============================>.] - ETA: 0s - loss: 0.7713 - accuracy: 0.8703\n",
            "Epoch 12: val_accuracy did not improve from 0.91217\n",
            "375/375 [==============================] - 4s 12ms/step - loss: 0.7714 - accuracy: 0.8701 - val_loss: 0.6304 - val_accuracy: 0.9082\n",
            "Epoch 13/20\n",
            "375/375 [==============================] - ETA: 0s - loss: 0.7660 - accuracy: 0.8711\n",
            "Epoch 13: val_accuracy did not improve from 0.91217\n",
            "375/375 [==============================] - 6s 15ms/step - loss: 0.7660 - accuracy: 0.8711 - val_loss: 0.6282 - val_accuracy: 0.9087\n",
            "Epoch 14/20\n",
            "375/375 [==============================] - ETA: 0s - loss: 0.7604 - accuracy: 0.8700\n",
            "Epoch 14: val_accuracy did not improve from 0.91217\n",
            "375/375 [==============================] - 4s 11ms/step - loss: 0.7604 - accuracy: 0.8700 - val_loss: 0.6411 - val_accuracy: 0.9029\n",
            "Epoch 15/20\n",
            "375/375 [==============================] - ETA: 0s - loss: 0.7628 - accuracy: 0.8722\n",
            "Epoch 15: val_accuracy did not improve from 0.91217\n",
            "375/375 [==============================] - 5s 14ms/step - loss: 0.7628 - accuracy: 0.8722 - val_loss: 0.6259 - val_accuracy: 0.9107\n",
            "Epoch 16/20\n",
            "371/375 [============================>.] - ETA: 0s - loss: 0.7554 - accuracy: 0.8719\n",
            "Epoch 16: val_accuracy did not improve from 0.91217\n",
            "375/375 [==============================] - 5s 13ms/step - loss: 0.7560 - accuracy: 0.8715 - val_loss: 0.6436 - val_accuracy: 0.9053\n",
            "Epoch 17/20\n",
            "374/375 [============================>.] - ETA: 0s - loss: 0.7591 - accuracy: 0.8702\n",
            "Epoch 17: val_accuracy did not improve from 0.91217\n",
            "375/375 [==============================] - 5s 12ms/step - loss: 0.7590 - accuracy: 0.8703 - val_loss: 0.6285 - val_accuracy: 0.9054\n",
            "Epoch 18/20\n",
            "370/375 [============================>.] - ETA: 0s - loss: 0.7571 - accuracy: 0.8717\n",
            "Epoch 18: val_accuracy did not improve from 0.91217\n",
            "375/375 [==============================] - 6s 15ms/step - loss: 0.7569 - accuracy: 0.8719 - val_loss: 0.6177 - val_accuracy: 0.9118\n",
            "Epoch 19/20\n",
            "375/375 [==============================] - ETA: 0s - loss: 0.7587 - accuracy: 0.8705\n",
            "Epoch 19: val_accuracy did not improve from 0.91217\n",
            "375/375 [==============================] - 4s 11ms/step - loss: 0.7587 - accuracy: 0.8705 - val_loss: 0.6219 - val_accuracy: 0.9080\n",
            "Epoch 20/20\n",
            "372/375 [============================>.] - ETA: 0s - loss: 0.7563 - accuracy: 0.8696\n",
            "Epoch 20: val_accuracy did not improve from 0.91217\n",
            "375/375 [==============================] - 4s 12ms/step - loss: 0.7558 - accuracy: 0.8699 - val_loss: 0.6291 - val_accuracy: 0.9084\n",
            "313/313 [==============================] - 1s 3ms/step - loss: 0.6390 - accuracy: 0.9104\n",
            "Test Accuracy: 0.9103999733924866\n"
          ]
        }
      ],
      "source": [
        "import tensorflow as tf\n",
        "from tensorflow import keras\n",
        "from tensorflow.keras.datasets import mnist\n",
        "from tensorflow.keras.models import Model\n",
        "from tensorflow.keras.layers import Input, Dense, Concatenate, Dropout\n",
        "from tensorflow.keras.regularizers import l1, l2\n",
        "from tensorflow.keras.callbacks import EarlyStopping, ModelCheckpoint\n",
        "\n",
        "# Load the MNIST dataset\n",
        "(x_train, y_train), (x_test, y_test) = mnist.load_data()\n",
        "\n",
        "# Normalize pixel values between 0 and 1\n",
        "x_train = x_train / 255.0\n",
        "x_test = x_test / 255.0\n",
        "\n",
        "# Convert labels to one-hot encoding\n",
        "y_train = keras.utils.to_categorical(y_train, 10)\n",
        "y_test = keras.utils.to_categorical(y_test, 10)\n",
        "\n",
        "# Define the input layer\n",
        "input_layer = Input(shape=(28, 28))\n",
        "\n",
        "# Flatten the input\n",
        "flatten_layer = keras.layers.Flatten()(input_layer)\n",
        "\n",
        "# Define the wide branch with L2 regularization\n",
        "wide_branch = Dense(128, activation='tanh', kernel_regularizer=l2(0.01))(flatten_layer)\n",
        "wide_branch = Dropout(0.5)(wide_branch)\n",
        "wide_branch = Dense(64, activation='tanh', kernel_regularizer=l2(0.01))(wide_branch)\n",
        "wide_branch = Dropout(0.5)(wide_branch)\n",
        "\n",
        "# Define the deep branch with L1 regularization\n",
        "deep_branch = Dense(128, activation='sigmoid', kernel_regularizer=l1(0.01))(flatten_layer)\n",
        "deep_branch = Dropout(0.5)(deep_branch)\n",
        "deep_branch = Dense(128, activation='sigmoid', kernel_regularizer=l1(0.01))(deep_branch)\n",
        "deep_branch = Dropout(0.5)(deep_branch)\n",
        "deep_branch = Dense(64, activation='sigmoid', kernel_regularizer=l1(0.01))(deep_branch)\n",
        "deep_branch = Dropout(0.5)(deep_branch)\n",
        "\n",
        "# Concatenate the wide and deep branches\n",
        "concat_layer = Concatenate()([wide_branch, deep_branch])\n",
        "\n",
        "# Output layer\n",
        "output_layer = Dense(10, activation='softmax')(concat_layer)\n",
        "\n",
        "# Create the model\n",
        "model = Model(inputs=input_layer, outputs=output_layer)\n",
        "\n",
        "# Set up early stopping and model checkpoint callbacks\n",
        "early_stopping = EarlyStopping(monitor='val_loss', patience=3, verbose=1)\n",
        "model_checkpoint = ModelCheckpoint('best_model.h5', monitor='val_accuracy', save_best_only=True, verbose=1)\n",
        "\n",
        "# Compile the model\n",
        "model.compile(optimizer='adam', loss='categorical_crossentropy', metrics=['accuracy'])\n",
        "\n",
        "# Train the model\n",
        "history = model.fit(x_train, y_train, batch_size=128, epochs=20, validation_split=0.2, callbacks=[early_stopping, model_checkpoint])\n",
        "\n",
        "# Load the best model saved during training\n",
        "best_model = keras.models.load_model('best_model.h5')\n",
        "\n",
        "# Evaluate the model on the test data\n",
        "test_loss, test_accuracy = best_model.evaluate(x_test, y_test)\n",
        "\n",
        "# Print the test accuracy\n",
        "print('Test Accuracy:', test_accuracy)\n"
      ]
    },
    {
      "cell_type": "markdown",
      "metadata": {
        "id": "054bt9XgLJhR"
      },
      "source": [
        "\n",
        "\n",
        "```\n",
        "🟢 Question 5:\n",
        "```\n",
        "\n",
        "\n",
        "\n",
        "\n",
        "Implementing ResNet-34 architecture from the scratch using Keras Sequential API. then train the network to predict on MNIST Fashion dataset. Evaluate model using appropriate metrics."
      ]
    },
    {
      "cell_type": "code",
      "execution_count": null,
      "metadata": {
        "colab": {
          "background_save": true,
          "base_uri": "https://localhost:8080/"
        },
        "id": "MaotFjXFJMES",
        "outputId": "2582a9b6-0783-42cb-9395-fc301c61d2cc"
      },
      "outputs": [
        {
          "name": "stdout",
          "output_type": "stream",
          "text": [
            "Downloading data from https://storage.googleapis.com/tensorflow/tf-keras-datasets/train-labels-idx1-ubyte.gz\n",
            "29515/29515 [==============================] - 0s 0us/step\n",
            "Downloading data from https://storage.googleapis.com/tensorflow/tf-keras-datasets/train-images-idx3-ubyte.gz\n",
            "26421880/26421880 [==============================] - 0s 0us/step\n",
            "Downloading data from https://storage.googleapis.com/tensorflow/tf-keras-datasets/t10k-labels-idx1-ubyte.gz\n",
            "5148/5148 [==============================] - 0s 0us/step\n",
            "Downloading data from https://storage.googleapis.com/tensorflow/tf-keras-datasets/t10k-images-idx3-ubyte.gz\n",
            "4422102/4422102 [==============================] - 0s 0us/step\n",
            "Epoch 1/20\n",
            "375/375 [==============================] - ETA: 0s - loss: 0.4783 - accuracy: 0.8275\n",
            "Epoch 1: val_accuracy improved from -inf to 0.61683, saving model to best_model.h5\n",
            "375/375 [==============================] - 3224s 9s/step - loss: 0.4783 - accuracy: 0.8275 - val_loss: 1.1706 - val_accuracy: 0.6168\n",
            "Epoch 2/20\n",
            "375/375 [==============================] - ETA: 0s - loss: 0.3187 - accuracy: 0.8837\n",
            "Epoch 2: val_accuracy improved from 0.61683 to 0.81575, saving model to best_model.h5\n",
            "375/375 [==============================] - 3295s 9s/step - loss: 0.3187 - accuracy: 0.8837 - val_loss: 0.5929 - val_accuracy: 0.8158\n",
            "Epoch 3/20\n",
            "375/375 [==============================] - ETA: 0s - loss: 0.2821 - accuracy: 0.8961\n",
            "Epoch 3: val_accuracy improved from 0.81575 to 0.82042, saving model to best_model.h5\n",
            "375/375 [==============================] - 3570s 10s/step - loss: 0.2821 - accuracy: 0.8961 - val_loss: 0.5632 - val_accuracy: 0.8204\n",
            "Epoch 4/20\n",
            "375/375 [==============================] - ETA: 0s - loss: 0.2557 - accuracy: 0.9056\n",
            "Epoch 4: val_accuracy improved from 0.82042 to 0.86017, saving model to best_model.h5\n",
            "375/375 [==============================] - 3283s 9s/step - loss: 0.2557 - accuracy: 0.9056 - val_loss: 0.4063 - val_accuracy: 0.8602\n",
            "Epoch 5/20\n",
            "124/375 [========>.....................] - ETA: 34:15 - loss: 0.2404 - accuracy: 0.9112"
          ]
        }
      ],
      "source": [
        "import tensorflow as tf\n",
        "from tensorflow import keras\n",
        "from tensorflow.keras.datasets import fashion_mnist\n",
        "from tensorflow.keras.models import Model\n",
        "from tensorflow.keras.layers import Conv2D, MaxPooling2D, Flatten, Dense, BatchNormalization, Activation, Add, Input\n",
        "from tensorflow.keras.callbacks import EarlyStopping, ModelCheckpoint\n",
        "\n",
        "# Load the Fashion MNIST dataset\n",
        "(x_train, y_train), (x_test, y_test) = fashion_mnist.load_data()\n",
        "\n",
        "# Normalize pixel values between 0 and 1\n",
        "x_train = x_train / 255.0\n",
        "x_test = x_test / 255.0\n",
        "\n",
        "# Expand dimensions for grayscale images\n",
        "x_train = x_train[..., tf.newaxis]\n",
        "x_test = x_test[..., tf.newaxis]\n",
        "\n",
        "# Convert labels to one-hot encoding\n",
        "y_train = keras.utils.to_categorical(y_train, 10)\n",
        "y_test = keras.utils.to_categorical(y_test, 10)\n",
        "\n",
        "# Define the Residual Block\n",
        "def residual_block(x, filters, strides=1):\n",
        "    shortcut = x\n",
        "    \n",
        "    # First convolutional layer\n",
        "    x = Conv2D(filters, kernel_size=(3, 3), strides=strides, padding='same')(x)\n",
        "    x = BatchNormalization()(x)\n",
        "    x = Activation('relu')(x)\n",
        "    \n",
        "    # Second convolutional layer\n",
        "    x = Conv2D(filters, kernel_size=(3, 3), padding='same')(x)\n",
        "    x = BatchNormalization()(x)\n",
        "    \n",
        "    # If the number of filters changes or the strides are greater than 1, apply a convolution to shortcut path\n",
        "    if strides > 1 or shortcut.shape[-1] != filters:\n",
        "        shortcut = Conv2D(filters, kernel_size=(1, 1), strides=strides, padding='same')(shortcut)\n",
        "        shortcut = BatchNormalization()(shortcut)\n",
        "    \n",
        "    # Add the shortcut to the main path\n",
        "    x = Add()([x, shortcut])\n",
        "    x = Activation('relu')(x)\n",
        "    return x\n",
        "\n",
        "# Build the ResNet-34 model\n",
        "inputs = Input(shape=(28, 28, 1))\n",
        "x = Conv2D(64, kernel_size=(7, 7), strides=2, padding='same')(inputs)\n",
        "x = BatchNormalization()(x)\n",
        "x = Activation('relu')(x)\n",
        "x = MaxPooling2D(pool_size=(3, 3), strides=2, padding='same')(x)\n",
        "\n",
        "x = residual_block(x, filters=64)\n",
        "x = residual_block(x, filters=64)\n",
        "x = residual_block(x, filters=64)\n",
        "\n",
        "x = residual_block(x, filters=128, strides=2)\n",
        "x = residual_block(x, filters=128)\n",
        "x = residual_block(x, filters=128)\n",
        "x = residual_block(x, filters=128)\n",
        "\n",
        "x = residual_block(x, filters=256, strides=2)\n",
        "x = residual_block(x, filters=256)\n",
        "x = residual_block(x, filters=256)\n",
        "x = residual_block(x, filters=256)\n",
        "x = residual_block(x, filters=256)\n",
        "x = residual_block(x, filters=256)\n",
        "\n",
        "x = residual_block(x, filters=512, strides=2)\n",
        "x = residual_block(x, filters=512)\n",
        "x = residual_block(x, filters=512)\n",
        "\n",
        "x = BatchNormalization()(x)\n",
        "x = Activation('relu')(x)\n",
        "x = Flatten()(x)\n",
        "outputs = Dense(10, activation='softmax')(x)\n",
        "\n",
        "model = Model(inputs=inputs, outputs=outputs)\n",
        "\n",
        "# Compile the model\n",
        "model.compile(optimizer='adam', loss='categorical_crossentropy', metrics=['accuracy'])\n",
        "\n",
        "# Set up early stopping and model checkpoint callbacks\n",
        "early_stopping = EarlyStopping(monitor='val_loss', patience=3, verbose=1)\n",
        "model_checkpoint = ModelCheckpoint('best_model.h5', monitor='val_accuracy', save_best_only=True, verbose=1)\n",
        "\n",
        "# Train the model\n",
        "history = model.fit(x_train, y_train, batch_size=128, epochs=20, validation_split=0.2, callbacks=[early_stopping, model_checkpoint])\n",
        "\n",
        "# Load the best model saved during training\n",
        "best_model = keras.models.load_model('best_model.h5')\n",
        "\n",
        "# Evaluate the model on the test data\n",
        "test_loss, test_accuracy = best_model.evaluate(x_test, y_test)\n",
        "\n",
        "# Print the test accuracy\n",
        "print('Test Accuracy:', test_accuracy)\n"
      ]
    },
    {
      "cell_type": "markdown",
      "source": [
        "\n",
        "\n",
        "```\n",
        "🟢 Question 6 :\n",
        "```\n",
        "Now train the same dataset and the same ResNet-34, but use pre-trained weights. In other words, use transfer learning to train the same model and determine whether there is any improvement in training time, accuracy, or any other aspect.\n"
      ],
      "metadata": {
        "id": "VpXvjwnLErVo"
      }
    },
    {
      "cell_type": "code",
      "execution_count": null,
      "metadata": {
        "id": "tiDh6VpJMKR8"
      },
      "outputs": [],
      "source": [
        "import tensorflow as tf\n",
        "from tensorflow import keras\n",
        "from tensorflow.keras.datasets import fashion_mnist\n",
        "from tensorflow.keras.models import Model\n",
        "from tensorflow.keras.layers import Conv2D, MaxPooling2D, Flatten, Dense, BatchNormalization, Activation, Add\n",
        "from tensorflow.keras.applications.resnet import ResNet50, preprocess_input\n",
        "\n",
        "# Load the Fashion MNIST dataset\n",
        "(x_train, y_train), (x_test, y_test) = fashion_mnist.load_data()\n",
        "\n",
        "# Normalize pixel values between 0 and 1\n",
        "x_train = x_train / 255.0\n",
        "x_test = x_test / 255.0\n",
        "\n",
        "# Expand dimensions for grayscale images\n",
        "x_train = x_train[..., tf.newaxis]\n",
        "x_test = x_test[..., tf.newaxis]\n",
        "\n",
        "# Convert labels to one-hot encoding\n",
        "y_train = keras.utils.to_categorical(y_train, 10)\n",
        "y_test = keras.utils.to_categorical(y_test, 10)\n",
        "\n",
        "# Preprocess the input data for transfer learning\n",
        "x_train = preprocess_input(x_train)\n",
        "x_test = preprocess_input(x_test)\n",
        "\n",
        "# Load the pre-trained ResNet-50 model without the top layer\n",
        "base_model = ResNet50(weights='imagenet', include_top=False, input_shape=(28, 28, 3))\n",
        "\n",
        "# Add a new classification head on top of the pre-trained base model\n",
        "x = base_model.output\n",
        "x = Flatten()(x)\n",
        "x = Dense(10, activation='softmax')(x)\n",
        "\n",
        "# Create the transfer learning model\n",
        "model = Model(inputs=base_model.input, outputs=x)\n",
        "\n",
        "# Freeze the weights of the pre-trained layers\n",
        "for layer in base_model.layers:\n",
        "    layer.trainable = False\n",
        "\n",
        "# Compile the model\n",
        "model.compile(optimizer='adam', loss='categorical_crossentropy', metrics=['accuracy'])\n",
        "\n",
        "# Train the model\n",
        "model.fit(x_train, y_train, batch_size=128, epochs=10, validation_split=0.2)\n",
        "\n",
        "# Evaluate the model on the test data\n",
        "test_loss, test_accuracy = model.evaluate(x_test, y_test)\n",
        "\n",
        "# Print the test accuracy\n",
        "print('Test Accuracy:', test_accuracy)\n"
      ]
    },
    {
      "cell_type": "markdown",
      "source": [
        "\n",
        "\n",
        "```\n",
        "🟢 Question 7:\n",
        "```\n",
        "Generate an artificial time series data and predict it using simple, deep Recurrent Neural Network, or LSTM cells\n"
      ],
      "metadata": {
        "id": "1r_4XIBvGjj_"
      }
    },
    {
      "cell_type": "code",
      "source": [
        "import numpy as np\n",
        "import matplotlib.pyplot as plt\n",
        "from tensorflow import keras\n",
        "from tensorflow.keras.models import Sequential\n",
        "from tensorflow.keras.layers import SimpleRNN, Dense\n",
        "\n",
        "# Generate the artificial time series data\n",
        "timesteps = 1000\n",
        "time = np.arange(timesteps)\n",
        "x = np.sin(0.1 * time) + np.random.normal(scale=0.1, size=timesteps)\n",
        "\n",
        "# Split the data into training and test sets\n",
        "train_ratio = 0.8\n",
        "train_size = int(timesteps * train_ratio)\n",
        "\n",
        "x_train, x_test = x[:train_size], x[train_size:]\n",
        "\n",
        "# Define the input sequence length\n",
        "sequence_length = 10\n",
        "\n",
        "# Prepare the training data by creating input-output pairs\n",
        "def prepare_data(data, sequence_length):\n",
        "    x_data, y_data = [], []\n",
        "    for i in range(len(data) - sequence_length):\n",
        "        x = data[i:i+sequence_length]\n",
        "        y = data[i+sequence_length]\n",
        "        x_data.append(x)\n",
        "        y_data.append(y)\n",
        "    return np.array(x_data), np.array(y_data)\n",
        "\n",
        "x_train, y_train = prepare_data(x_train, sequence_length)\n",
        "x_test, y_test = prepare_data(x_test, sequence_length)\n",
        "\n",
        "# Reshape the data for RNN input [samples, timesteps, features]\n",
        "x_train = np.reshape(x_train, (x_train.shape[0], sequence_length, 1))\n",
        "x_test = np.reshape(x_test, (x_test.shape[0], sequence_length, 1))\n",
        "\n",
        "# Build the deep RNN model\n",
        "model = Sequential()\n",
        "model.add(SimpleRNN(64, return_sequences=True, input_shape=(sequence_length, 1)))\n",
        "model.add(SimpleRNN(64))\n",
        "model.add(Dense(1))\n",
        "\n",
        "# Compile the model\n",
        "model.compile(optimizer='adam', loss='mean_squared_error')\n",
        "\n",
        "# Train the model\n",
        "history = model.fit(x_train, y_train, epochs=20, batch_size=32)\n",
        "\n",
        "# Evaluate the model on the test data\n",
        "test_loss = model.evaluate(x_test, y_test)\n",
        "\n",
        "# Generate predictions on the test data\n",
        "predictions = model.predict(x_test)\n",
        "\n",
        "# Plot the original data and the predictions\n",
        "plt.figure(figsize=(10, 6))\n",
        "plt.plot(time[train_size+sequence_length:train_size+sequence_length+len(predictions)], y_test, label='True')\n",
        "plt.plot(time[train_size+sequence_length:train_size+sequence_length+len(predictions)], predictions.flatten(), label='Predictions')\n",
        "plt.xlabel('Time')\n",
        "plt.ylabel('Value')\n",
        "plt.legend()\n",
        "plt.show()\n"
      ],
      "metadata": {
        "colab": {
          "base_uri": "https://localhost:8080/",
          "height": 1000
        },
        "id": "iiH6WnJYGeqP",
        "outputId": "c0be831c-eeed-4624-e403-b860b0a6cbda"
      },
      "execution_count": 2,
      "outputs": [
        {
          "output_type": "stream",
          "name": "stdout",
          "text": [
            "Epoch 1/20\n",
            "25/25 [==============================] - 2s 9ms/step - loss: 0.1257\n",
            "Epoch 2/20\n",
            "25/25 [==============================] - 0s 9ms/step - loss: 0.0251\n",
            "Epoch 3/20\n",
            "25/25 [==============================] - 0s 9ms/step - loss: 0.0186\n",
            "Epoch 4/20\n",
            "25/25 [==============================] - 0s 9ms/step - loss: 0.0153\n",
            "Epoch 5/20\n",
            "25/25 [==============================] - 0s 10ms/step - loss: 0.0146\n",
            "Epoch 6/20\n",
            "25/25 [==============================] - 0s 10ms/step - loss: 0.0158\n",
            "Epoch 7/20\n",
            "25/25 [==============================] - 0s 9ms/step - loss: 0.0142\n",
            "Epoch 8/20\n",
            "25/25 [==============================] - 0s 10ms/step - loss: 0.0138\n",
            "Epoch 9/20\n",
            "25/25 [==============================] - 0s 9ms/step - loss: 0.0146\n",
            "Epoch 10/20\n",
            "25/25 [==============================] - 0s 9ms/step - loss: 0.0149\n",
            "Epoch 11/20\n",
            "25/25 [==============================] - 0s 8ms/step - loss: 0.0137\n",
            "Epoch 12/20\n",
            "25/25 [==============================] - 0s 6ms/step - loss: 0.0140\n",
            "Epoch 13/20\n",
            "25/25 [==============================] - 0s 6ms/step - loss: 0.0141\n",
            "Epoch 14/20\n",
            "25/25 [==============================] - 0s 6ms/step - loss: 0.0137\n",
            "Epoch 15/20\n",
            "25/25 [==============================] - 0s 6ms/step - loss: 0.0128\n",
            "Epoch 16/20\n",
            "25/25 [==============================] - 0s 6ms/step - loss: 0.0135\n",
            "Epoch 17/20\n",
            "25/25 [==============================] - 0s 6ms/step - loss: 0.0137\n",
            "Epoch 18/20\n",
            "25/25 [==============================] - 0s 6ms/step - loss: 0.0132\n",
            "Epoch 19/20\n",
            "25/25 [==============================] - 0s 6ms/step - loss: 0.0138\n",
            "Epoch 20/20\n",
            "25/25 [==============================] - 0s 5ms/step - loss: 0.0172\n",
            "6/6 [==============================] - 0s 4ms/step - loss: 0.0233\n",
            "6/6 [==============================] - 0s 3ms/step\n"
          ]
        },
        {
          "output_type": "display_data",
          "data": {
            "text/plain": [
              "<Figure size 1000x600 with 1 Axes>"
            ],
            "image/png": "[encoded data removed]"
          },
          "metadata": {}
        }
      ]
    },
    {
      "cell_type": "markdown",
      "source": [
        "\n",
        "\n",
        "```\n",
        "🟢 Question 8:\n",
        "```\n",
        "Generate Shakespearean texts using Character Recurrent Neural Network. Develop the training dataset by splitting and chopping the training texts. Then develop a Char-RNN model to generate fake Shakespearean texts."
      ],
      "metadata": {
        "id": "EBC2g3sVH2x-"
      }
    },
    {
      "cell_type": "code",
      "source": [
        "import tensorflow as tf\n",
        "import numpy as np\n",
        "\n",
        "# Load the Shakespearean text\n",
        "path_to_file = \"shakespeare_data.txt\"\n",
        "text = open(path_to_file, 'rb').read().decode(encoding='utf-8')\n",
        "\n",
        "# Get unique characters in the text\n",
        "vocab = sorted(set(text))\n",
        "\n",
        "# Create mapping from characters to indices and vice versa\n",
        "char2idx = {u: i for i, u in enumerate(vocab)}\n",
        "idx2char = np.array(vocab)\n",
        "\n",
        "# Convert the text to a numerical representation\n",
        "text_as_int = np.array([char2idx[c] for c in text])\n",
        "\n",
        "# Define the input and target sequences for training\n",
        "seq_length = 100  # Length of the input sequence\n",
        "examples_per_epoch = len(text) // (seq_length + 1)\n",
        "\n",
        "char_dataset = tf.data.Dataset.from_tensor_slices(text_as_int)\n",
        "\n",
        "sequences = char_dataset.batch(seq_length + 1, drop_remainder=True)\n",
        "\n",
        "def split_input_target(chunk):\n",
        "    input_text = chunk[:-1]\n",
        "    target_text = chunk[1:]\n",
        "    return input_text, target_text\n",
        "\n",
        "dataset = sequences.map(split_input_target)\n",
        "\n",
        "# Batch size for training\n",
        "BATCH_SIZE = 64\n",
        "BUFFER_SIZE = 10000\n",
        "\n",
        "dataset = dataset.shuffle(BUFFER_SIZE).batch(BATCH_SIZE, drop_remainder=True)\n",
        "\n",
        "# Define the Char-RNN model\n",
        "vocab_size = len(vocab)\n",
        "embedding_dim = 256\n",
        "rnn_units = 1024\n",
        "\n",
        "def build_model(vocab_size, embedding_dim, rnn_units, batch_size):\n",
        "    model = tf.keras.Sequential([\n",
        "        tf.keras.layers.Embedding(vocab_size, embedding_dim, batch_input_shape=[batch_size, None]),\n",
        "        tf.keras.layers.GRU(rnn_units, return_sequences=True, stateful=True, recurrent_initializer='glorot_uniform'),\n",
        "        tf.keras.layers.Dense(vocab_size)\n",
        "    ])\n",
        "    return model\n",
        "\n",
        "model = build_model(vocab_size=vocab_size, embedding_dim=embedding_dim, rnn_units=rnn_units, batch_size=BATCH_SIZE)\n",
        "\n",
        "# Compile the model\n",
        "model.compile(optimizer='adam', loss=tf.keras.losses.SparseCategoricalCrossentropy(from_logits=True))\n",
        "\n",
        "# Function to generate text using the trained model\n",
        "def generate_text(model, start_string):\n",
        "    num_generate = 1000\n",
        "    input_eval = [char2idx[s] for s in start_string]\n",
        "    input_eval = tf.expand_dims(input_eval, 0)\n",
        "    text_generated = []\n",
        "\n",
        "    model.reset_states()\n",
        "    for _ in range(num_generate):\n",
        "        predictions = model(input_eval)\n",
        "        predictions = tf.squeeze(predictions, 0)\n",
        "        predicted_id = tf.random.categorical(predictions, num_samples=1)[-1, 0].numpy()\n",
        "        input_eval = tf.expand_dims([predicted_id], 0)\n",
        "        text_generated.append(idx2char[predicted_id])\n",
        "\n",
        "    return (start_string + ''.join(text_generated))\n",
        "\n",
        "# Train the model\n",
        "history = model.fit(dataset, epochs=10)\n",
        "\n",
        "# Generate text using the trained model\n",
        "generated_text = generate_text(model, start_string='ROMEO: ')\n",
        "\n",
        "print(generated_text)\n"
      ],
      "metadata": {
        "id": "6nR-zH_kHus6"
      },
      "execution_count": null,
      "outputs": []
    },
    {
      "cell_type": "markdown",
      "source": [
        "\n",
        "\n",
        "```\n",
        "🟢 Question 9:\n",
        "```\n",
        "Download the IMBD dataset and perform a sentiment analysis on the movie reviews. You can use pre-trained embeddings if you want. \n"
      ],
      "metadata": {
        "id": "480KkVITK5pl"
      }
    },
    {
      "cell_type": "code",
      "source": [
        "import numpy as np\n",
        "from tensorflow import keras\n",
        "from tensorflow.keras.datasets import imdb\n",
        "from tensorflow.keras.models import Sequential\n",
        "from tensorflow.keras.layers import Embedding, LSTM, Dense\n",
        "from tensorflow.keras.preprocessing.sequence import pad_sequences\n",
        "\n",
        "# Load the IMDB movie reviews dataset\n",
        "max_features = 10000  # Maximum number of words to keep in the vocabulary\n",
        "maxlen = 200  # Maximum length of a review (in words)\n",
        "\n",
        "(x_train, y_train), (x_test, y_test) = imdb.load_data(num_words=max_features)\n",
        "\n",
        "# Pad sequences to have the same length\n",
        "x_train = pad_sequences(x_train, maxlen=maxlen)\n",
        "x_test = pad_sequences(x_test, maxlen=maxlen)\n",
        "\n",
        "# Define the model architecture\n",
        "model = Sequential()\n",
        "model.add(Embedding(max_features, 100, input_length=maxlen))  # Embedding layer using pre-trained word embeddings\n",
        "model.add(LSTM(128, dropout=0.2, recurrent_dropout=0.2))\n",
        "model.add(Dense(1, activation='sigmoid'))\n",
        "\n",
        "# Compile the model\n",
        "model.compile(loss='binary_crossentropy', optimizer='adam', metrics=['accuracy'])\n",
        "\n",
        "# Print the model summary\n",
        "print(model.summary())\n",
        "\n",
        "# Train the model\n",
        "model.fit(x_train, y_train, batch_size=32, epochs=10, validation_data=(x_test, y_test))\n",
        "\n",
        "# Evaluate the model on the test set\n",
        "test_loss, test_acc = model.evaluate(x_test, y_test)\n",
        "print(\"Test Loss:\", test_loss)\n",
        "print(\"Test Accuracy:\", test_acc)\n"
      ],
      "metadata": {
        "colab": {
          "base_uri": "https://localhost:8080/",
          "height": 745
        },
        "id": "XflypW9kKYsL",
        "outputId": "6628e63b-874a-46da-e75d-69a379c2d664"
      },
      "execution_count": 10,
      "outputs": [
        {
          "output_type": "stream",
          "name": "stdout",
          "text": [
            "Downloading data from https://storage.googleapis.com/tensorflow/tf-keras-datasets/imdb.npz\n",
            "17464789/17464789 [==============================] - 0s 0us/step\n",
            "Model: \"sequential_5\"\n",
            "_________________________________________________________________\n",
            " Layer (type)                Output Shape              Param #   \n",
            "=================================================================\n",
            " embedding (Embedding)       (None, 200, 100)          1000000   \n",
            "                                                                 \n",
            " lstm (LSTM)                 (None, 128)               117248    \n",
            "                                                                 \n",
            " dense_5 (Dense)             (None, 1)                 129       \n",
            "                                                                 \n",
            "=================================================================\n",
            "Total params: 1,117,377\n",
            "Trainable params: 1,117,377\n",
            "Non-trainable params: 0\n",
            "_________________________________________________________________\n",
            "None\n",
            "Epoch 1/10\n",
            "552/782 [====================>.........] - ETA: 2:16 - loss: 0.4975 - accuracy: 0.7673"
          ]
        },
        {
          "output_type": "error",
          "ename": "KeyboardInterrupt",
          "evalue": "ignored",
          "traceback": [
            "\u001b[0;31m---------------------------------------------------------------------------\u001b[0m",
            "\u001b[0;31mKeyboardInterrupt\u001b[0m                         Traceback (most recent call last)",
            "\u001b[0;32m<ipython-input-10-ef4515d2bf33>\u001b[0m in \u001b[0;36m<cell line: 31>\u001b[0;34m()\u001b[0m\n\u001b[1;32m     29\u001b[0m \u001b[0;34m\u001b[0m\u001b[0m\n\u001b[1;32m     30\u001b[0m \u001b[0;31m# Train the model\u001b[0m\u001b[0;34m\u001b[0m\u001b[0;34m\u001b[0m\u001b[0m\n\u001b[0;32m---> 31\u001b[0;31m \u001b[0mmodel\u001b[0m\u001b[0;34m.\u001b[0m\u001b[0mfit\u001b[0m\u001b[0;34m(\u001b[0m\u001b[0mx_train\u001b[0m\u001b[0;34m,\u001b[0m \u001b[0my_train\u001b[0m\u001b[0;34m,\u001b[0m \u001b[0mbatch_size\u001b[0m\u001b[0;34m=\u001b[0m\u001b[0;36m32\u001b[0m\u001b[0;34m,\u001b[0m \u001b[0mepochs\u001b[0m\u001b[0;34m=\u001b[0m\u001b[0;36m10\u001b[0m\u001b[0;34m,\u001b[0m \u001b[0mvalidation_data\u001b[0m\u001b[0;34m=\u001b[0m\u001b[0;34m(\u001b[0m\u001b[0mx_test\u001b[0m\u001b[0;34m,\u001b[0m \u001b[0my_test\u001b[0m\u001b[0;34m)\u001b[0m\u001b[0;34m)\u001b[0m\u001b[0;34m\u001b[0m\u001b[0;34m\u001b[0m\u001b[0m\n\u001b[0m\u001b[1;32m     32\u001b[0m \u001b[0;34m\u001b[0m\u001b[0m\n\u001b[1;32m     33\u001b[0m \u001b[0;31m# Evaluate the model on the test set\u001b[0m\u001b[0;34m\u001b[0m\u001b[0;34m\u001b[0m\u001b[0m\n",
            "\u001b[0;32m/usr/local/lib/python3.10/dist-packages/keras/utils/traceback_utils.py\u001b[0m in \u001b[0;36merror_handler\u001b[0;34m(*args, **kwargs)\u001b[0m\n\u001b[1;32m     63\u001b[0m         \u001b[0mfiltered_tb\u001b[0m \u001b[0;34m=\u001b[0m \u001b[0;32mNone\u001b[0m\u001b[0;34m\u001b[0m\u001b[0;34m\u001b[0m\u001b[0m\n\u001b[1;32m     64\u001b[0m         \u001b[0;32mtry\u001b[0m\u001b[0;34m:\u001b[0m\u001b[0;34m\u001b[0m\u001b[0;34m\u001b[0m\u001b[0m\n\u001b[0;32m---> 65\u001b[0;31m             \u001b[0;32mreturn\u001b[0m \u001b[0mfn\u001b[0m\u001b[0;34m(\u001b[0m\u001b[0;34m*\u001b[0m\u001b[0margs\u001b[0m\u001b[0;34m,\u001b[0m \u001b[0;34m**\u001b[0m\u001b[0mkwargs\u001b[0m\u001b[0;34m)\u001b[0m\u001b[0;34m\u001b[0m\u001b[0;34m\u001b[0m\u001b[0m\n\u001b[0m\u001b[1;32m     66\u001b[0m         \u001b[0;32mexcept\u001b[0m \u001b[0mException\u001b[0m \u001b[0;32mas\u001b[0m \u001b[0me\u001b[0m\u001b[0;34m:\u001b[0m\u001b[0;34m\u001b[0m\u001b[0;34m\u001b[0m\u001b[0m\n\u001b[1;32m     67\u001b[0m             \u001b[0mfiltered_tb\u001b[0m \u001b[0;34m=\u001b[0m \u001b[0m_process_traceback_frames\u001b[0m\u001b[0;34m(\u001b[0m\u001b[0me\u001b[0m\u001b[0;34m.\u001b[0m\u001b[0m__traceback__\u001b[0m\u001b[0;34m)\u001b[0m\u001b[0;34m\u001b[0m\u001b[0;34m\u001b[0m\u001b[0m\n",
            "\u001b[0;32m/usr/local/lib/python3.10/dist-packages/keras/engine/training.py\u001b[0m in \u001b[0;36mfit\u001b[0;34m(self, x, y, batch_size, epochs, verbose, callbacks, validation_split, validation_data, shuffle, class_weight, sample_weight, initial_epoch, steps_per_epoch, validation_steps, validation_batch_size, validation_freq, max_queue_size, workers, use_multiprocessing)\u001b[0m\n\u001b[1;32m   1683\u001b[0m                         ):\n\u001b[1;32m   1684\u001b[0m                             \u001b[0mcallbacks\u001b[0m\u001b[0;34m.\u001b[0m\u001b[0mon_train_batch_begin\u001b[0m\u001b[0;34m(\u001b[0m\u001b[0mstep\u001b[0m\u001b[0;34m)\u001b[0m\u001b[0;34m\u001b[0m\u001b[0;34m\u001b[0m\u001b[0m\n\u001b[0;32m-> 1685\u001b[0;31m                             \u001b[0mtmp_logs\u001b[0m \u001b[0;34m=\u001b[0m \u001b[0mself\u001b[0m\u001b[0;34m.\u001b[0m\u001b[0mtrain_function\u001b[0m\u001b[0;34m(\u001b[0m\u001b[0miterator\u001b[0m\u001b[0;34m)\u001b[0m\u001b[0;34m\u001b[0m\u001b[0;34m\u001b[0m\u001b[0m\n\u001b[0m\u001b[1;32m   1686\u001b[0m                             \u001b[0;32mif\u001b[0m \u001b[0mdata_handler\u001b[0m\u001b[0;34m.\u001b[0m\u001b[0mshould_sync\u001b[0m\u001b[0;34m:\u001b[0m\u001b[0;34m\u001b[0m\u001b[0;34m\u001b[0m\u001b[0m\n\u001b[1;32m   1687\u001b[0m                                 \u001b[0mcontext\u001b[0m\u001b[0;34m.\u001b[0m\u001b[0masync_wait\u001b[0m\u001b[0;34m(\u001b[0m\u001b[0;34m)\u001b[0m\u001b[0;34m\u001b[0m\u001b[0;34m\u001b[0m\u001b[0m\n",
            "\u001b[0;32m/usr/local/lib/python3.10/dist-packages/tensorflow/python/util/traceback_utils.py\u001b[0m in \u001b[0;36merror_handler\u001b[0;34m(*args, **kwargs)\u001b[0m\n\u001b[1;32m    148\u001b[0m     \u001b[0mfiltered_tb\u001b[0m \u001b[0;34m=\u001b[0m \u001b[0;32mNone\u001b[0m\u001b[0;34m\u001b[0m\u001b[0;34m\u001b[0m\u001b[0m\n\u001b[1;32m    149\u001b[0m     \u001b[0;32mtry\u001b[0m\u001b[0;34m:\u001b[0m\u001b[0;34m\u001b[0m\u001b[0;34m\u001b[0m\u001b[0m\n\u001b[0;32m--> 150\u001b[0;31m       \u001b[0;32mreturn\u001b[0m \u001b[0mfn\u001b[0m\u001b[0;34m(\u001b[0m\u001b[0;34m*\u001b[0m\u001b[0margs\u001b[0m\u001b[0;34m,\u001b[0m \u001b[0;34m**\u001b[0m\u001b[0mkwargs\u001b[0m\u001b[0;34m)\u001b[0m\u001b[0;34m\u001b[0m\u001b[0;34m\u001b[0m\u001b[0m\n\u001b[0m\u001b[1;32m    151\u001b[0m     \u001b[0;32mexcept\u001b[0m \u001b[0mException\u001b[0m \u001b[0;32mas\u001b[0m \u001b[0me\u001b[0m\u001b[0;34m:\u001b[0m\u001b[0;34m\u001b[0m\u001b[0;34m\u001b[0m\u001b[0m\n\u001b[1;32m    152\u001b[0m       \u001b[0mfiltered_tb\u001b[0m \u001b[0;34m=\u001b[0m \u001b[0m_process_traceback_frames\u001b[0m\u001b[0;34m(\u001b[0m\u001b[0me\u001b[0m\u001b[0;34m.\u001b[0m\u001b[0m__traceback__\u001b[0m\u001b[0;34m)\u001b[0m\u001b[0;34m\u001b[0m\u001b[0;34m\u001b[0m\u001b[0m\n",
            "\u001b[0;32m/usr/local/lib/python3.10/dist-packages/tensorflow/python/eager/polymorphic_function/polymorphic_function.py\u001b[0m in \u001b[0;36m__call__\u001b[0;34m(self, *args, **kwds)\u001b[0m\n\u001b[1;32m    892\u001b[0m \u001b[0;34m\u001b[0m\u001b[0m\n\u001b[1;32m    893\u001b[0m       \u001b[0;32mwith\u001b[0m \u001b[0mOptionalXlaContext\u001b[0m\u001b[0;34m(\u001b[0m\u001b[0mself\u001b[0m\u001b[0;34m.\u001b[0m\u001b[0m_jit_compile\u001b[0m\u001b[0;34m)\u001b[0m\u001b[0;34m:\u001b[0m\u001b[0;34m\u001b[0m\u001b[0;34m\u001b[0m\u001b[0m\n\u001b[0;32m--> 894\u001b[0;31m         \u001b[0mresult\u001b[0m \u001b[0;34m=\u001b[0m \u001b[0mself\u001b[0m\u001b[0;34m.\u001b[0m\u001b[0m_call\u001b[0m\u001b[0;34m(\u001b[0m\u001b[0;34m*\u001b[0m\u001b[0margs\u001b[0m\u001b[0;34m,\u001b[0m \u001b[0;34m**\u001b[0m\u001b[0mkwds\u001b[0m\u001b[0;34m)\u001b[0m\u001b[0;34m\u001b[0m\u001b[0;34m\u001b[0m\u001b[0m\n\u001b[0m\u001b[1;32m    895\u001b[0m \u001b[0;34m\u001b[0m\u001b[0m\n\u001b[1;32m    896\u001b[0m       \u001b[0mnew_tracing_count\u001b[0m \u001b[0;34m=\u001b[0m \u001b[0mself\u001b[0m\u001b[0;34m.\u001b[0m\u001b[0mexperimental_get_tracing_count\u001b[0m\u001b[0;34m(\u001b[0m\u001b[0;34m)\u001b[0m\u001b[0;34m\u001b[0m\u001b[0;34m\u001b[0m\u001b[0m\n",
            "\u001b[0;32m/usr/local/lib/python3.10/dist-packages/tensorflow/python/eager/polymorphic_function/polymorphic_function.py\u001b[0m in \u001b[0;36m_call\u001b[0;34m(self, *args, **kwds)\u001b[0m\n\u001b[1;32m    924\u001b[0m       \u001b[0;31m# In this case we have created variables on the first call, so we run the\u001b[0m\u001b[0;34m\u001b[0m\u001b[0;34m\u001b[0m\u001b[0m\n\u001b[1;32m    925\u001b[0m       \u001b[0;31m# defunned version which is guaranteed to never create variables.\u001b[0m\u001b[0;34m\u001b[0m\u001b[0;34m\u001b[0m\u001b[0m\n\u001b[0;32m--> 926\u001b[0;31m       \u001b[0;32mreturn\u001b[0m \u001b[0mself\u001b[0m\u001b[0;34m.\u001b[0m\u001b[0m_no_variable_creation_fn\u001b[0m\u001b[0;34m(\u001b[0m\u001b[0;34m*\u001b[0m\u001b[0margs\u001b[0m\u001b[0;34m,\u001b[0m \u001b[0;34m**\u001b[0m\u001b[0mkwds\u001b[0m\u001b[0;34m)\u001b[0m  \u001b[0;31m# pylint: disable=not-callable\u001b[0m\u001b[0;34m\u001b[0m\u001b[0;34m\u001b[0m\u001b[0m\n\u001b[0m\u001b[1;32m    927\u001b[0m     \u001b[0;32melif\u001b[0m \u001b[0mself\u001b[0m\u001b[0;34m.\u001b[0m\u001b[0m_variable_creation_fn\u001b[0m \u001b[0;32mis\u001b[0m \u001b[0;32mnot\u001b[0m \u001b[0;32mNone\u001b[0m\u001b[0;34m:\u001b[0m\u001b[0;34m\u001b[0m\u001b[0;34m\u001b[0m\u001b[0m\n\u001b[1;32m    928\u001b[0m       \u001b[0;31m# Release the lock early so that multiple threads can perform the call\u001b[0m\u001b[0;34m\u001b[0m\u001b[0;34m\u001b[0m\u001b[0m\n",
            "\u001b[0;32m/usr/local/lib/python3.10/dist-packages/tensorflow/python/eager/polymorphic_function/tracing_compiler.py\u001b[0m in \u001b[0;36m__call__\u001b[0;34m(self, *args, **kwargs)\u001b[0m\n\u001b[1;32m    141\u001b[0m       (concrete_function,\n\u001b[1;32m    142\u001b[0m        filtered_flat_args) = self._maybe_define_function(args, kwargs)\n\u001b[0;32m--> 143\u001b[0;31m     return concrete_function._call_flat(\n\u001b[0m\u001b[1;32m    144\u001b[0m         filtered_flat_args, captured_inputs=concrete_function.captured_inputs)  # pylint: disable=protected-access\n\u001b[1;32m    145\u001b[0m \u001b[0;34m\u001b[0m\u001b[0m\n",
            "\u001b[0;32m/usr/local/lib/python3.10/dist-packages/tensorflow/python/eager/polymorphic_function/monomorphic_function.py\u001b[0m in \u001b[0;36m_call_flat\u001b[0;34m(self, args, captured_inputs, cancellation_manager)\u001b[0m\n\u001b[1;32m   1755\u001b[0m         and executing_eagerly):\n\u001b[1;32m   1756\u001b[0m       \u001b[0;31m# No tape is watching; skip to running the function.\u001b[0m\u001b[0;34m\u001b[0m\u001b[0;34m\u001b[0m\u001b[0m\n\u001b[0;32m-> 1757\u001b[0;31m       return self._build_call_outputs(self._inference_function.call(\n\u001b[0m\u001b[1;32m   1758\u001b[0m           ctx, args, cancellation_manager=cancellation_manager))\n\u001b[1;32m   1759\u001b[0m     forward_backward = self._select_forward_and_backward_functions(\n",
            "\u001b[0;32m/usr/local/lib/python3.10/dist-packages/tensorflow/python/eager/polymorphic_function/monomorphic_function.py\u001b[0m in \u001b[0;36mcall\u001b[0;34m(self, ctx, args, cancellation_manager)\u001b[0m\n\u001b[1;32m    379\u001b[0m       \u001b[0;32mwith\u001b[0m \u001b[0m_InterpolateFunctionError\u001b[0m\u001b[0;34m(\u001b[0m\u001b[0mself\u001b[0m\u001b[0;34m)\u001b[0m\u001b[0;34m:\u001b[0m\u001b[0;34m\u001b[0m\u001b[0;34m\u001b[0m\u001b[0m\n\u001b[1;32m    380\u001b[0m         \u001b[0;32mif\u001b[0m \u001b[0mcancellation_manager\u001b[0m \u001b[0;32mis\u001b[0m \u001b[0;32mNone\u001b[0m\u001b[0;34m:\u001b[0m\u001b[0;34m\u001b[0m\u001b[0;34m\u001b[0m\u001b[0m\n\u001b[0;32m--> 381\u001b[0;31m           outputs = execute.execute(\n\u001b[0m\u001b[1;32m    382\u001b[0m               \u001b[0mstr\u001b[0m\u001b[0;34m(\u001b[0m\u001b[0mself\u001b[0m\u001b[0;34m.\u001b[0m\u001b[0msignature\u001b[0m\u001b[0;34m.\u001b[0m\u001b[0mname\u001b[0m\u001b[0;34m)\u001b[0m\u001b[0;34m,\u001b[0m\u001b[0;34m\u001b[0m\u001b[0;34m\u001b[0m\u001b[0m\n\u001b[1;32m    383\u001b[0m               \u001b[0mnum_outputs\u001b[0m\u001b[0;34m=\u001b[0m\u001b[0mself\u001b[0m\u001b[0;34m.\u001b[0m\u001b[0m_num_outputs\u001b[0m\u001b[0;34m,\u001b[0m\u001b[0;34m\u001b[0m\u001b[0;34m\u001b[0m\u001b[0m\n",
            "\u001b[0;32m/usr/local/lib/python3.10/dist-packages/tensorflow/python/eager/execute.py\u001b[0m in \u001b[0;36mquick_execute\u001b[0;34m(op_name, num_outputs, inputs, attrs, ctx, name)\u001b[0m\n\u001b[1;32m     50\u001b[0m   \u001b[0;32mtry\u001b[0m\u001b[0;34m:\u001b[0m\u001b[0;34m\u001b[0m\u001b[0;34m\u001b[0m\u001b[0m\n\u001b[1;32m     51\u001b[0m     \u001b[0mctx\u001b[0m\u001b[0;34m.\u001b[0m\u001b[0mensure_initialized\u001b[0m\u001b[0;34m(\u001b[0m\u001b[0;34m)\u001b[0m\u001b[0;34m\u001b[0m\u001b[0;34m\u001b[0m\u001b[0m\n\u001b[0;32m---> 52\u001b[0;31m     tensors = pywrap_tfe.TFE_Py_Execute(ctx._handle, device_name, op_name,\n\u001b[0m\u001b[1;32m     53\u001b[0m                                         inputs, attrs, num_outputs)\n\u001b[1;32m     54\u001b[0m   \u001b[0;32mexcept\u001b[0m \u001b[0mcore\u001b[0m\u001b[0;34m.\u001b[0m\u001b[0m_NotOkStatusException\u001b[0m \u001b[0;32mas\u001b[0m \u001b[0me\u001b[0m\u001b[0;34m:\u001b[0m\u001b[0;34m\u001b[0m\u001b[0;34m\u001b[0m\u001b[0m\n",
            "\u001b[0;31mKeyboardInterrupt\u001b[0m: "
          ]
        }
      ]
    }
  ],
  "metadata": {
    "colab": {
      "toc_visible": true,
      "provenance": [],
      "authorship_tag": "ABX9TyPYiK3NJCX665MRrGCVgTO4",
      "include_colab_link": true
    },
    "kernelspec": {
      "display_name": "Python 3",
      "name": "python3"
    },
    "language_info": {
      "name": "python"
    }
  },
  "nbformat": 4,
  "nbformat_minor": 0
}